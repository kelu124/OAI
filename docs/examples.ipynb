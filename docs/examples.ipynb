{
 "cells": [
  {
   "cell_type": "code",
   "execution_count": 4,
   "metadata": {},
   "outputs": [
    {
     "name": "stdout",
     "output_type": "stream",
     "text": [
      "The autoreload extension is already loaded. To reload it, use:\n",
      "  %reload_ext autoreload\n"
     ]
    }
   ],
   "source": [
    "import OAI\n",
    "%load_ext autoreload "
   ]
  },
  {
   "cell_type": "code",
   "execution_count": 5,
   "metadata": {},
   "outputs": [],
   "source": [
    "h = OAI.Helper(\"demo_ask\",\"./cache\")\n",
    "f = OAI.askFCT(\"demo_fct\",\"./cache\")"
   ]
  },
  {
   "attachments": {},
   "cell_type": "markdown",
   "metadata": {},
   "source": [
    "# Asking questions to any model, chat completion style"
   ]
  },
  {
   "cell_type": "code",
   "execution_count": 6,
   "metadata": {},
   "outputs": [
    {
     "name": "stdout",
     "output_type": "stream",
     "text": [
      "Processing with gpt-3.5-turbo-1106 :\t 11/14/2023, 22:33:41 --> 11/14/2023, 22:33:42\n",
      "True \t The diameter of the sun is approximately 1.4 million kilometers.\n",
      "False \t The diameter of the sun is approximately 1.4 million kilometers.\n"
     ]
    }
   ],
   "source": [
    "for overwrite in [True,False]:\n",
    "    ans = h.ask(\"What is the size of the sun\",\"answer with the size in km\",v=\"gpt-3.5-turbo-1106\",ow=overwrite)\n",
    "    print(overwrite,\"\\t\",ans)"
   ]
  },
  {
   "attachments": {},
   "cell_type": "markdown",
   "metadata": {},
   "source": [
    "## Running with functions"
   ]
  },
  {
   "cell_type": "code",
   "execution_count": 7,
   "metadata": {},
   "outputs": [],
   "source": [
    "tools = [\n",
    "    {\n",
    "            \"name\": \"get_current_weather\",\n",
    "            \"description\": \"Get the current weather\",\n",
    "            \"parameters\": {\n",
    "                \"type\": \"object\",\n",
    "                \"properties\": {\n",
    "                    \"location\": {\n",
    "                        \"type\": \"string\",\n",
    "                        \"description\": \"The city and state, e.g. San Francisco, CA\",\n",
    "                    },\n",
    "                    \"format\": {\n",
    "                        \"type\": \"string\",\n",
    "                        \"enum\": [\"celsius\", \"fahrenheit\"],\n",
    "                        \"description\": \"The temperature unit to use. Infer this from the users location.\",\n",
    "                    },\n",
    "                },\n",
    "                \"required\": [\"location\", \"format\"],\n",
    "            },\n",
    "        },\n",
    "    {\n",
    "            \"name\": \"get_n_day_weather_forecast\",\n",
    "            \"description\": \"Get an N-day weather forecast\",\n",
    "            \"parameters\": {\n",
    "                \"type\": \"object\",\n",
    "                \"properties\": {\n",
    "                    \"location\": {\n",
    "                        \"type\": \"string\",\n",
    "                        \"description\": \"The city and state, e.g. San Francisco, CA\",\n",
    "                    },\n",
    "                    \"format\": {\n",
    "                        \"type\": \"string\",\n",
    "                        \"enum\": [\"celsius\", \"fahrenheit\"],\n",
    "                        \"description\": \"The temperature unit to use. Infer this from the users location.\",\n",
    "                    },\n",
    "                    \"num_days\": {\n",
    "                        \"type\": \"integer\",\n",
    "                        \"description\": \"The number of days to forecast\",\n",
    "                    }\n",
    "                },\n",
    "                \"required\": [\"location\", \"format\", \"num_days\"]\n",
    "            },\n",
    "        }\n",
    "\n",
    "]"
   ]
  },
  {
   "cell_type": "code",
   "execution_count": 8,
   "metadata": {},
   "outputs": [
    {
     "name": "stdout",
     "output_type": "stream",
     "text": [
      "\u001b[31msystem: Don't make assumptions about what values to plug into functions. Ask for clarification if a user request is ambiguous.\n",
      "Don't make assumptions about what values to plug into functions. Ask for clarification if a user request is ambiguous.\n",
      "\u001b[0m\n",
      "\u001b[32muser: What's the weather like today\n",
      "\u001b[0m\n",
      "\u001b[34massistant: Could you please provide the city and state for which you'd like to get the current weather? For example, \"San Francisco, CA\".\n",
      "\u001b[0m\n",
      "\u001b[32muser: The city is Dublin\n",
      "\u001b[0m\n",
      "\u001b[34massistant: {'name': 'get_current_weather', 'arguments': '{\"location\":\"Dublin\",\"format\":\"celsius\"}'}\n",
      "\u001b[0m\n"
     ]
    }
   ],
   "source": [
    "CONTEXT = \"Don't make assumptions about what values to plug into functions. Ask for clarification if a user request is ambiguous.\"\n",
    "Q = \"What's the weather like today\"\n",
    "\n",
    "messages, chat_response = f.askFct(CONTEXT,Q,tools,modelGPT=\"gpt-3.5-turbo-1106\",ow=True)\n",
    "messages.append({\"role\": \"user\", \"content\": \"The city is Dublin\"})\n",
    "msgs, answer = f.askFtcEngine(messages,tools,modelGPT=\"gpt-3.5-turbo-1106\",ow=True)\n",
    "f.pretty_print_conversation(msgs)\n"
   ]
  },
  {
   "cell_type": "code",
   "execution_count": 9,
   "metadata": {},
   "outputs": [
    {
     "name": "stdout",
     "output_type": "stream",
     "text": [
      "\u001b[31msystem: Don't make assumptions about what values to plug into functions. Ask for clarification if a user request is ambiguous.\n",
      "Don't make assumptions about what values to plug into functions. Ask for clarification if a user request is ambiguous.\n",
      "\u001b[0m\n",
      "\u001b[32muser: What's the weather like today\n",
      "\u001b[0m\n",
      "\u001b[34massistant: Could you please provide the city and state for which you'd like to get the current weather? For example, \"San Francisco, CA\".\n",
      "\u001b[0m\n",
      "\u001b[32muser: The city is Dublin\n",
      "\u001b[0m\n",
      "\u001b[34massistant: {'name': 'get_current_weather', 'arguments': '{\"location\":\"Dublin\",\"format\":\"celsius\"}'}\n",
      "\u001b[0m\n"
     ]
    }
   ],
   "source": [
    "CONTEXT = \"Don't make assumptions about what values to plug into functions. Ask for clarification if a user request is ambiguous.\"\n",
    "Q = \"What's the weather like today\"\n",
    "\n",
    "messages, chat_response = f.askFct(CONTEXT,Q,tools,modelGPT=\"gpt-3.5-turbo-1106\",ow=False)\n",
    "messages.append({\"role\": \"user\", \"content\": \"The city is Dublin\"})\n",
    "msgs, answer = f.askFtcEngine(messages,tools,modelGPT=\"gpt-3.5-turbo-1106\",ow=False)\n",
    "f.pretty_print_conversation(msgs)\n"
   ]
  },
  {
   "attachments": {},
   "cell_type": "markdown",
   "metadata": {},
   "source": [
    "### Check for answers with direct answer"
   ]
  },
  {
   "cell_type": "code",
   "execution_count": 10,
   "metadata": {},
   "outputs": [
    {
     "name": "stdout",
     "output_type": "stream",
     "text": [
      "\u001b[31msystem: Don't make assumptions about what values to plug into functions. Ask for clarification if a user request is ambiguous.\n",
      "Don't make assumptions about what values to plug into functions. Ask for clarification if a user request is ambiguous.\n",
      "\u001b[0m\n",
      "\u001b[32muser: What's the weather like today in Dublin\n",
      "\u001b[0m\n",
      "\u001b[34massistant: {'name': 'get_current_weather', 'arguments': '{\"location\":\"Dublin\",\"format\":\"celsius\"}'}\n",
      "\u001b[0m\n",
      "\u001b[32muser: The city is Dublin\n",
      "\u001b[0m\n",
      "\u001b[34massistant: {'name': 'get_current_weather', 'arguments': '{\"location\":\"Dublin\",\"format\":\"celsius\"}'}\n",
      "\u001b[0m\n"
     ]
    }
   ],
   "source": [
    "CONTEXT = \"Don't make assumptions about what values to plug into functions. Ask for clarification if a user request is ambiguous.\"\n",
    "Q = \"What's the weather like today in Dublin\"\n",
    "\n",
    "messages, chat_response = f.askFct(CONTEXT,Q,tools,modelGPT=\"gpt-3.5-turbo-1106\",ow=True)\n",
    "messages.append({\"role\": \"user\", \"content\": \"The city is Dublin\"})\n",
    "msgs, answer = f.askFtcEngine(messages,tools,modelGPT=\"gpt-3.5-turbo-1106\",ow=True)\n",
    "f.pretty_print_conversation(msgs)\n"
   ]
  }
 ],
 "metadata": {
  "kernelspec": {
   "display_name": "Python 3",
   "language": "python",
   "name": "python3"
  },
  "language_info": {
   "codemirror_mode": {
    "name": "ipython",
    "version": 3
   },
   "file_extension": ".py",
   "mimetype": "text/x-python",
   "name": "python",
   "nbconvert_exporter": "python",
   "pygments_lexer": "ipython3",
   "version": "3.10.12"
  },
  "orig_nbformat": 4,
  "vscode": {
   "interpreter": {
    "hash": "e7370f93d1d0cde622a1f8e1c04877d8463912d04d973331ad4851f04de6915a"
   }
  }
 },
 "nbformat": 4,
 "nbformat_minor": 2
}
