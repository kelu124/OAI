{
 "cells": [
  {
   "cell_type": "code",
   "execution_count": 1,
   "metadata": {},
   "outputs": [],
   "source": [
    "from basics import *\n",
    "from fcts import *\n",
    "\n",
    "%load_ext autoreload "
   ]
  },
  {
   "cell_type": "code",
   "execution_count": 24,
   "metadata": {},
   "outputs": [],
   "source": [
    "from dotenv import dotenv_values\n",
    "from pymongo import MongoClient\n",
    "import json\n",
    "import gzip\n",
    "import json\n",
    "\n",
    "config = dotenv_values(\".env\")\n",
    "DBAdress = config[\"DB\"]\n",
    "cluster = MongoClient(DBAdress)\n",
    "db = cluster[\"OAI\"]\n",
    "DB = db[\"OAI_Collection\"]\n"
   ]
  },
  {
   "cell_type": "code",
   "execution_count": 22,
   "metadata": {},
   "outputs": [],
   "source": [
    "allDBItems = {}\n",
    "allLogs = DB.find()\n",
    "for log in list(allLogs):\n",
    "    allDBItems[log[\"ID\"]] = log\n",
    "    allDBItems[log[\"ID\"]][\"_id\"] = str(allDBItems[log[\"ID\"]][\"_id\"])"
   ]
  },
  {
   "cell_type": "code",
   "execution_count": 26,
   "metadata": {},
   "outputs": [],
   "source": [
    "json_bytes = json.dumps(allDBItems).encode('utf-8')           \n",
    "with gzip.open(\"save.gzip\", 'w') as fout:   \n",
    "    fout.write(json_bytes)"
   ]
  },
  {
   "cell_type": "code",
   "execution_count": 2,
   "metadata": {},
   "outputs": [],
   "source": [
    "h = Helper()"
   ]
  },
  {
   "cell_type": "code",
   "execution_count": 6,
   "metadata": {},
   "outputs": [
    {
     "data": {
      "text/plain": [
       "'The diameter of the moon is approximately 3,474 kilometers.'"
      ]
     },
     "execution_count": 6,
     "metadata": {},
     "output_type": "execute_result"
    }
   ],
   "source": [
    "h.ask(\"What is the size of the moon\",\"Give me the answer in kilometers\")"
   ]
  },
  {
   "cell_type": "code",
   "execution_count": 3,
   "metadata": {},
   "outputs": [],
   "source": [
    "# Clear up the cache if needed\n",
    "# h.DB.delete_many({})"
   ]
  },
  {
   "cell_type": "code",
   "execution_count": 7,
   "metadata": {},
   "outputs": [
    {
     "name": "stdout",
     "output_type": "stream",
     "text": [
      "Processing with gpt-3.5-turbo-1106 :\t 11/14/2023, 22:19:26 --> 11/14/2023, 22:19:26\n"
     ]
    },
    {
     "data": {
      "text/plain": [
       "'The approximate diameter of the Sun is about 1.4 million kilometers (870,000 miles).'"
      ]
     },
     "execution_count": 7,
     "metadata": {},
     "output_type": "execute_result"
    }
   ],
   "source": [
    "h.ask(\"What is the size of the sun\",\"answer with the size in km\",v=\"gpt-3.5-turbo-1106\",ow=True)"
   ]
  },
  {
   "cell_type": "code",
   "execution_count": 7,
   "metadata": {},
   "outputs": [
    {
     "name": "stdout",
     "output_type": "stream",
     "text": [
      "Processing with gpt-3.5-turbo-1106 :\t 11/14/2023, 22:16:57 --> 11/14/2023, 22:16:57\n",
      "True \t The diameter of the sun is approximately 1.4 million kilometers.\n",
      "False \t The sun has a diameter of approximately 1.4 million kilometers (870,000 miles).\n",
      "False \t The sun has a diameter of approximately 1.4 million kilometers (870,000 miles).\n"
     ]
    }
   ],
   "source": [
    "for overwrite in [True,False,False]:\n",
    "    ans = h.ask(\"What is the size of the sun\",\"answer with the size in km\",v=\"gpt-3.5-turbo-1106\",ow=overwrite)\n",
    "    print(overwrite,\"\\t\",ans)"
   ]
  },
  {
   "cell_type": "code",
   "execution_count": 6,
   "metadata": {},
   "outputs": [
    {
     "name": "stdout",
     "output_type": "stream",
     "text": [
      "False \t The sun has a diameter of approximately 1.4 million kilometers.\n",
      "False \t The sun has a diameter of approximately 1.4 million kilometers.\n"
     ]
    }
   ],
   "source": [
    "for overwrite in [False,False]:\n",
    "    ans = h.ask(\"What is the size of the sun\",\"answer with the size in km\",v=\"gpt-3.5-turbo-1106\",ow=overwrite)\n",
    "    print(overwrite,\"\\t\",ans)"
   ]
  },
  {
   "cell_type": "code",
   "execution_count": 7,
   "metadata": {},
   "outputs": [
    {
     "name": "stdout",
     "output_type": "stream",
     "text": [
      "Processing with gpt-3.5-turbo-1106 :\t 11/14/2023, 22:15:42 --> 11/14/2023, 22:15:42\n",
      "True \t The sun has a diameter of approximately 1.4 million kilometers (870,000 miles).\n",
      "False \t The sun has a diameter of approximately 1.4 million kilometers.\n",
      "False \t The sun has a diameter of approximately 1.4 million kilometers.\n"
     ]
    }
   ],
   "source": [
    "for overwrite in [True,False,False]:\n",
    "    ans = h.ask(\"What is the size of the sun\",\"answer with the size in km\",v=\"gpt-3.5-turbo-1106\",ow=overwrite)\n",
    "    print(overwrite,\"\\t\",ans)"
   ]
  },
  {
   "cell_type": "code",
   "execution_count": 8,
   "metadata": {},
   "outputs": [
    {
     "ename": "TypeError",
     "evalue": "'NoneType' object is not subscriptable",
     "output_type": "error",
     "traceback": [
      "\u001b[0;31m---------------------------------------------------------------------------\u001b[0m",
      "\u001b[0;31mTypeError\u001b[0m                                 Traceback (most recent call last)",
      "Cell \u001b[0;32mIn[8], line 1\u001b[0m\n\u001b[0;32m----> 1\u001b[0m h\u001b[39m.\u001b[39;49mDB\u001b[39m.\u001b[39;49mfind_one({\u001b[39m\"\u001b[39;49m\u001b[39mID\u001b[39;49m\u001b[39m\"\u001b[39;49m: \u001b[39m\"\u001b[39;49m\u001b[39m6c59df9c0178c05775167afe024febb5\u001b[39;49m\u001b[39m\"\u001b[39;49m})[\u001b[39m\"\u001b[39;49m\u001b[39manswer\u001b[39;49m\u001b[39m\"\u001b[39;49m]\n",
      "\u001b[0;31mTypeError\u001b[0m: 'NoneType' object is not subscriptable"
     ]
    }
   ],
   "source": [
    "h.DB.find_one({\"ID\": \"6c59df9c0178c05775167afe024febb5\"})[\"answer\"]"
   ]
  },
  {
   "cell_type": "code",
   "execution_count": null,
   "metadata": {},
   "outputs": [],
   "source": []
  },
  {
   "cell_type": "code",
   "execution_count": 7,
   "metadata": {},
   "outputs": [
    {
     "name": "stdout",
     "output_type": "stream",
     "text": [
      "Processing with gpt-3.5-turbo-16k-0613 :\t 11/12/2023, 19:19:52 --> 11/12/2023, 19:19:55\n"
     ]
    },
    {
     "data": {
      "text/plain": [
       "'The size of the Moon is approximately 2,159 miles in diameter.'"
      ]
     },
     "execution_count": 7,
     "metadata": {},
     "output_type": "execute_result"
    }
   ],
   "source": [
    "h.ask(\"What is the size of the moon\",\"Give me the answer in miles\")"
   ]
  },
  {
   "attachments": {},
   "cell_type": "markdown",
   "metadata": {},
   "source": [
    "## C"
   ]
  },
  {
   "cell_type": "code",
   "execution_count": 1,
   "metadata": {},
   "outputs": [],
   "source": [
    "from fcts import *\n",
    "\n",
    "%load_ext autoreload \n",
    "\n",
    "f = askFCT()"
   ]
  },
  {
   "cell_type": "code",
   "execution_count": 2,
   "metadata": {},
   "outputs": [],
   "source": [
    "tools = [\n",
    "    {\n",
    "            \"name\": \"get_current_weather\",\n",
    "            \"description\": \"Get the current weather\",\n",
    "            \"parameters\": {\n",
    "                \"type\": \"object\",\n",
    "                \"properties\": {\n",
    "                    \"location\": {\n",
    "                        \"type\": \"string\",\n",
    "                        \"description\": \"The city and state, e.g. San Francisco, CA\",\n",
    "                    },\n",
    "                    \"format\": {\n",
    "                        \"type\": \"string\",\n",
    "                        \"enum\": [\"celsius\", \"fahrenheit\"],\n",
    "                        \"description\": \"The temperature unit to use. Infer this from the users location.\",\n",
    "                    },\n",
    "                },\n",
    "                \"required\": [\"location\", \"format\"],\n",
    "            },\n",
    "        },\n",
    "    {\n",
    "            \"name\": \"get_n_day_weather_forecast\",\n",
    "            \"description\": \"Get an N-day weather forecast\",\n",
    "            \"parameters\": {\n",
    "                \"type\": \"object\",\n",
    "                \"properties\": {\n",
    "                    \"location\": {\n",
    "                        \"type\": \"string\",\n",
    "                        \"description\": \"The city and state, e.g. San Francisco, CA\",\n",
    "                    },\n",
    "                    \"format\": {\n",
    "                        \"type\": \"string\",\n",
    "                        \"enum\": [\"celsius\", \"fahrenheit\"],\n",
    "                        \"description\": \"The temperature unit to use. Infer this from the users location.\",\n",
    "                    },\n",
    "                    \"num_days\": {\n",
    "                        \"type\": \"integer\",\n",
    "                        \"description\": \"The number of days to forecast\",\n",
    "                    }\n",
    "                },\n",
    "                \"required\": [\"location\", \"format\", \"num_days\"]\n",
    "            },\n",
    "        }\n",
    "\n",
    "]"
   ]
  },
  {
   "cell_type": "code",
   "execution_count": 10,
   "metadata": {},
   "outputs": [
    {
     "name": "stdout",
     "output_type": "stream",
     "text": [
      "\u001b[31msystem: Don't make assumptions about what values to plug into functions. Ask for clarification if a user request is ambiguous.\n",
      "Don't make assumptions about what values to plug into functions. Ask for clarification if a user request is ambiguous.\n",
      "\u001b[0m\n",
      "\u001b[32muser: What's the weather like today\n",
      "\u001b[0m\n",
      "\u001b[34massistant: Sure, I can help you with that. Can you please provide me with the city and state for which you'd like to get the current weather?\n",
      "\u001b[0m\n",
      "\u001b[32muser: The city is Dublin\n",
      "\u001b[0m\n",
      "\u001b[34massistant: {'name': 'get_current_weather', 'arguments': '{\"location\":\"Dublin\",\"format\":\"celsius\"}'}\n",
      "\u001b[0m\n",
      "\u001b[31msystem: Don't make assumptions about what values to plug into functions. Ask for clarification if a user request is ambiguous.\n",
      "Don't make assumptions about what values to plug into functions. Ask for clarification if a user request is ambiguous.\n",
      "\u001b[0m\n",
      "\u001b[32muser: What's the weather like today\n",
      "\u001b[0m\n",
      "\u001b[34massistant: Sure, I can help you with that. Can you please provide me with the city and state for which you'd like to get the current weather?\n",
      "\u001b[0m\n",
      "\u001b[32muser: The city is Dublin\n",
      "\u001b[0m\n",
      "\u001b[34massistant: {'name': 'get_current_weather', 'arguments': '{\"location\":\"Dublin\",\"format\":\"celsius\"}'}\n",
      "\u001b[0m\n"
     ]
    }
   ],
   "source": [
    "CONTEXT = \"Don't make assumptions about what values to plug into functions. Ask for clarification if a user request is ambiguous.\"\n",
    "Q = \"What's the weather like today\"\n",
    "for caching in [True,False]:\n",
    "    messages, chat_response = f.askFct(CONTEXT,Q,tools,modelGPT=\"gpt-3.5-turbo-1106\",ow=caching)\n",
    "    messages.append({\"role\": \"user\", \"content\": \"The city is Dublin\"})\n",
    "    msgs, answer = f.askFtcEngine(messages,tools,modelGPT=\"gpt-3.5-turbo-1106\",ow=caching)\n",
    "    f.pretty_print_conversation(msgs)\n"
   ]
  },
  {
   "cell_type": "code",
   "execution_count": 4,
   "metadata": {},
   "outputs": [
    {
     "name": "stdout",
     "output_type": "stream",
     "text": [
      "\u001b[31msystem: Don't make assumptions about what values to plug into functions. Ask for clarification if a user request is ambiguous.\n",
      "Don't make assumptions about what values to plug into functions. Ask for clarification if a user request is ambiguous.\n",
      "\u001b[0m\n",
      "\u001b[32muser: What's the weather like today\n",
      "\u001b[0m\n",
      "\u001b[34massistant: Sure, I can help you with that. Can you please provide me with the city and state for which you'd like to get the current weather?\n",
      "\u001b[0m\n",
      "\u001b[32muser: The city is Dublin\n",
      "\u001b[0m\n"
     ]
    }
   ],
   "source": []
  },
  {
   "cell_type": "code",
   "execution_count": 5,
   "metadata": {},
   "outputs": [
    {
     "name": "stdout",
     "output_type": "stream",
     "text": [
      "\u001b[31msystem: Don't make assumptions about what values to plug into functions. Ask for clarification if a user request is ambiguous.\n",
      "Don't make assumptions about what values to plug into functions. Ask for clarification if a user request is ambiguous.\n",
      "\u001b[0m\n",
      "\u001b[32muser: What's the weather like today\n",
      "\u001b[0m\n",
      "\u001b[34massistant: Sure, I can help you with that. Can you please provide me with the city and state for which you'd like to get the current weather?\n",
      "\u001b[0m\n",
      "\u001b[32muser: The city is Dublin\n",
      "\u001b[0m\n",
      "\u001b[34massistant: {'name': 'get_current_weather', 'arguments': '{\"location\":\"Dublin\",\"format\":\"celsius\"}'}\n",
      "\u001b[0m\n"
     ]
    }
   ],
   "source": []
  },
  {
   "attachments": {},
   "cell_type": "markdown",
   "metadata": {},
   "source": [
    "### Doing it for functions with a direct answer"
   ]
  },
  {
   "cell_type": "code",
   "execution_count": 7,
   "metadata": {},
   "outputs": [
    {
     "name": "stdout",
     "output_type": "stream",
     "text": [
      "\u001b[31msystem: Don't make assumptions about what values to plug into functions. Ask for clarification if a user request is ambiguous.\n",
      "Don't make assumptions about what values to plug into functions. Ask for clarification if a user request is ambiguous.\n",
      "\u001b[0m\n",
      "\u001b[32muser: What's the weather like today in Dublin ?\n",
      "\u001b[0m\n",
      "\u001b[34massistant: {'name': 'get_current_weather', 'arguments': '{\"location\":\"Dublin\",\"format\":\"celsius\"}'}\n",
      "\u001b[0m\n"
     ]
    }
   ],
   "source": [
    "CONTEXT = \"Don't make assumptions about what values to plug into functions. Ask for clarification if a user request is ambiguous.\"\n",
    "Q = \"What's the weather like today in Dublin ?\"\n",
    "\n",
    "messages, chat_response = f.askFct(CONTEXT,Q,tools,modelGPT=\"gpt-3.5-turbo-1106\",ow=True)\n",
    "f.pretty_print_conversation(messages)"
   ]
  },
  {
   "cell_type": "code",
   "execution_count": 8,
   "metadata": {},
   "outputs": [
    {
     "name": "stdout",
     "output_type": "stream",
     "text": [
      "\u001b[31msystem: Don't make assumptions about what values to plug into functions. Ask for clarification if a user request is ambiguous.\n",
      "Don't make assumptions about what values to plug into functions. Ask for clarification if a user request is ambiguous.\n",
      "\u001b[0m\n",
      "\u001b[32muser: What's the weather like today in Dublin ?\n",
      "\u001b[0m\n",
      "\u001b[34massistant: {'name': 'get_current_weather', 'arguments': '{\"location\":\"Dublin\",\"format\":\"celsius\"}'}\n",
      "\u001b[0m\n"
     ]
    }
   ],
   "source": [
    "messages, chat_response = f.askFct(CONTEXT,Q,tools,modelGPT=\"gpt-3.5-turbo-1106\",ow=False)\n",
    "f.pretty_print_conversation(messages)"
   ]
  }
 ],
 "metadata": {
  "kernelspec": {
   "display_name": "Python 3",
   "language": "python",
   "name": "python3"
  },
  "language_info": {
   "codemirror_mode": {
    "name": "ipython",
    "version": 3
   },
   "file_extension": ".py",
   "mimetype": "text/x-python",
   "name": "python",
   "nbconvert_exporter": "python",
   "pygments_lexer": "ipython3",
   "version": "3.10.12"
  },
  "orig_nbformat": 4,
  "vscode": {
   "interpreter": {
    "hash": "e7370f93d1d0cde622a1f8e1c04877d8463912d04d973331ad4851f04de6915a"
   }
  }
 },
 "nbformat": 4,
 "nbformat_minor": 2
}
